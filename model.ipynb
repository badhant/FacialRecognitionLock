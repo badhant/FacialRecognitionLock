{
 "cells": [
  {
   "cell_type": "markdown",
   "metadata": {},
   "source": [
    "# The Facial Recognition Model "
   ]
  },
  {
   "cell_type": "code",
   "execution_count": 1,
   "metadata": {},
   "outputs": [
    {
     "name": "stderr",
     "output_type": "stream",
     "text": [
      "Using TensorFlow backend.\n"
     ]
    }
   ],
   "source": [
    "from keras.layers import Input, Lambda, Dense, Flatten\n",
    "from keras.models import Model\n",
    "from keras.applications.vgg16 import VGG16\n",
    "from keras.applications.vgg16 import preprocess_input\n",
    "from keras.preprocessing import image\n",
    "from keras.preprocessing.image import ImageDataGenerator\n",
    "from keras.models import Sequential\n",
    "import numpy as np\n",
    "from glob import glob\n",
    "import matplotlib.pyplot as plt\n",
    "\n",
    "#To get the machine to work \n",
    "import os\n",
    "os.environ['KMP_DUPLICATE_LIB_OK']='True'\n",
    "\n",
    "def get_cnn(classes_path): \n",
    "    \n",
    "    #Creating the convolutional neural network with layers and pretrained weights from imagenet\n",
    "    cnn = VGG16(input_shape = (224, 224, 3) , weights='imagenet', include_top=False)\n",
    "    \n",
    "    #VGG16 is already trained via imagenet dataset, it already has capabilities of classifiying multiple objects\n",
    "    #We must keep those, and make these weights non - trainable to preserve them \n",
    "    for i in cnn.layers: \n",
    "        i.trainable = False \n",
    "        \n",
    "    #Adding the last layers in the cnn\n",
    "    x = Flatten()(cnn.output)\n",
    "    \n",
    "    #To train the amount of people ('classes') and creating nodes for them \n",
    "    output = Dense(len(glob(classes_path)), activation='softmax')(x)\n",
    "    \n",
    "    #Now to create the model \n",
    "    model = Model(inputs = cnn.input, outputs = output)\n",
    "    \n",
    "    #Compiling model and telling it what optimizer and loss method to use\n",
    "    model.compile(loss='categorical_crossentropy', optimizer='adam', metrics=['accuracy'])\n",
    "\n",
    "    return model\n",
    "\n",
    "def model_generator(model, train_path, test_path): \n",
    "    \n",
    "    #Generating training data: optimizing the images to create a better set of data to be trained on \n",
    "    train_data = ImageDataGenerator(rescale = 1./255, shear_range = 0.2, zoom_range = 0.2, horizontal_flip = True)\n",
    "    \n",
    "    #Generating the test data \n",
    "    test_data = ImageDataGenerator(rescale = 1./255)\n",
    "    \n",
    "    #Generating training and testing sets \n",
    "    training_set = test_data.flow_from_directory(train_path, target_size = (224, 224), batch_size = 32, \n",
    "                                                 class_mode = 'categorical') \n",
    "    \n",
    "    testing_set = test_data.flow_from_directory(test_path, target_size = (224, 224), batch_size = 32, \n",
    "                                                 class_mode = 'categorical')\n",
    "    \n",
    "    #Making the model \n",
    "    fit = model.fit_generator(training_set, validation_data = testing_set, epochs = 5, \n",
    "                              steps_per_epoch = len(training_set), validation_steps = len(testing_set))\n",
    "    \n",
    "    return fit\n",
    "\n",
    "def results(fit): \n",
    "    \n",
    "    #Showing the loss\n",
    "    plt.plot(fit.history['loss'], label='train loss')\n",
    "    plt.plot(fit.history['val_loss'], label='val loss')\n",
    "    plt.legend()\n",
    "    plt.show()\n",
    "\n",
    "    #Showing the accuracies\n",
    "    plt.plot(fit.history['accuracy'], label='train acc')\n",
    "    plt.plot(fit.history['val_accuracy'], label='val acc')\n",
    "    plt.legend()\n",
    "    plt.show()\n",
    "    "
   ]
  },
  {
   "cell_type": "markdown",
   "metadata": {},
   "source": [
    "# Generating the Model "
   ]
  },
  {
   "cell_type": "code",
   "execution_count": 2,
   "metadata": {},
   "outputs": [
    {
     "name": "stdout",
     "output_type": "stream",
     "text": [
      "Model: \"model_1\"\n",
      "_________________________________________________________________\n",
      "Layer (type)                 Output Shape              Param #   \n",
      "=================================================================\n",
      "input_1 (InputLayer)         (None, 224, 224, 3)       0         \n",
      "_________________________________________________________________\n",
      "block1_conv1 (Conv2D)        (None, 224, 224, 64)      1792      \n",
      "_________________________________________________________________\n",
      "block1_conv2 (Conv2D)        (None, 224, 224, 64)      36928     \n",
      "_________________________________________________________________\n",
      "block1_pool (MaxPooling2D)   (None, 112, 112, 64)      0         \n",
      "_________________________________________________________________\n",
      "block2_conv1 (Conv2D)        (None, 112, 112, 128)     73856     \n",
      "_________________________________________________________________\n",
      "block2_conv2 (Conv2D)        (None, 112, 112, 128)     147584    \n",
      "_________________________________________________________________\n",
      "block2_pool (MaxPooling2D)   (None, 56, 56, 128)       0         \n",
      "_________________________________________________________________\n",
      "block3_conv1 (Conv2D)        (None, 56, 56, 256)       295168    \n",
      "_________________________________________________________________\n",
      "block3_conv2 (Conv2D)        (None, 56, 56, 256)       590080    \n",
      "_________________________________________________________________\n",
      "block3_conv3 (Conv2D)        (None, 56, 56, 256)       590080    \n",
      "_________________________________________________________________\n",
      "block3_pool (MaxPooling2D)   (None, 28, 28, 256)       0         \n",
      "_________________________________________________________________\n",
      "block4_conv1 (Conv2D)        (None, 28, 28, 512)       1180160   \n",
      "_________________________________________________________________\n",
      "block4_conv2 (Conv2D)        (None, 28, 28, 512)       2359808   \n",
      "_________________________________________________________________\n",
      "block4_conv3 (Conv2D)        (None, 28, 28, 512)       2359808   \n",
      "_________________________________________________________________\n",
      "block4_pool (MaxPooling2D)   (None, 14, 14, 512)       0         \n",
      "_________________________________________________________________\n",
      "block5_conv1 (Conv2D)        (None, 14, 14, 512)       2359808   \n",
      "_________________________________________________________________\n",
      "block5_conv2 (Conv2D)        (None, 14, 14, 512)       2359808   \n",
      "_________________________________________________________________\n",
      "block5_conv3 (Conv2D)        (None, 14, 14, 512)       2359808   \n",
      "_________________________________________________________________\n",
      "block5_pool (MaxPooling2D)   (None, 7, 7, 512)         0         \n",
      "_________________________________________________________________\n",
      "flatten_1 (Flatten)          (None, 25088)             0         \n",
      "_________________________________________________________________\n",
      "dense_1 (Dense)              (None, 2)                 50178     \n",
      "=================================================================\n",
      "Total params: 14,764,866\n",
      "Trainable params: 50,178\n",
      "Non-trainable params: 14,714,688\n",
      "_________________________________________________________________\n",
      "Found 2155 images belonging to 2 classes.\n",
      "Found 395 images belonging to 2 classes.\n",
      "Epoch 1/5\n",
      "68/68 [==============================] - 801s 12s/step - loss: 0.1468 - accuracy: 0.9582 - val_loss: 1.2300e-05 - val_accuracy: 1.0000\n",
      "Epoch 2/5\n",
      "68/68 [==============================] - 798s 12s/step - loss: 0.0017 - accuracy: 0.9995 - val_loss: 4.8982e-05 - val_accuracy: 1.0000\n",
      "Epoch 3/5\n",
      "68/68 [==============================] - 797s 12s/step - loss: 6.5136e-04 - accuracy: 0.9995 - val_loss: 1.7697e-04 - val_accuracy: 1.0000\n",
      "Epoch 4/5\n",
      "68/68 [==============================] - 801s 12s/step - loss: 3.7861e-04 - accuracy: 1.0000 - val_loss: 1.1140e-04 - val_accuracy: 1.0000\n",
      "Epoch 5/5\n",
      "68/68 [==============================] - 800s 12s/step - loss: 2.5258e-04 - accuracy: 1.0000 - val_loss: 2.8544e-05 - val_accuracy: 1.0000\n"
     ]
    },
    {
     "data": {
      "image/png": "[encoded data removed]",
      "text/plain": [
       "<Figure size 432x288 with 1 Axes>"
      ]
     },
     "metadata": {
      "needs_background": "light"
     },
     "output_type": "display_data"
    },
    {
     "data": {
      "image/png": "[encoded data removed]",
      "text/plain": [
       "<Figure size 432x288 with 1 Axes>"
      ]
     },
     "metadata": {
      "needs_background": "light"
     },
     "output_type": "display_data"
    }
   ],
   "source": [
    "#Defining paths and directories\n",
    "classes_path = '/users/diljot/Desktop/FaceID_Model/images/*'\n",
    "train_path = '/users/diljot/Desktop/FaceID_Model/images'\n",
    "test_path = '/users/diljot/Desktop/FaceID_Model/valid'\n",
    "\n",
    "#Generating CNN \n",
    "face_recog_model = get_cnn(classes_path)\n",
    "face_recog_model.summary()\n",
    "\n",
    "#Generating and training model\n",
    "model_fit = model_generator(face_recog_model, train_path, test_path) \n",
    "\n",
    "#Outputting results\n",
    "results(model_fit)    \n",
    "\n",
    "import tensorflow as tf\n",
    "from keras.models import load_model\n",
    "\n",
    "face_recog_model.save('face_recognition_model.h5')"
   ]
  },
  {
   "cell_type": "code",
   "execution_count": null,
   "metadata": {},
   "outputs": [],
   "source": []
  },
  {
   "cell_type": "code",
   "execution_count": null,
   "metadata": {},
   "outputs": [],
   "source": []
  },
  {
   "cell_type": "code",
   "execution_count": null,
   "metadata": {},
   "outputs": [],
   "source": []
  }
 ],
 "metadata": {
  "kernelspec": {
   "display_name": "Python 3",
   "language": "python",
   "name": "python3"
  },
  "language_info": {
   "codemirror_mode": {
    "name": "ipython",
    "version": 3
   },
   "file_extension": ".py",
   "mimetype": "text/x-python",
   "name": "python",
   "nbconvert_exporter": "python",
   "pygments_lexer": "ipython3",
   "version": "3.7.4"
  }
 },
 "nbformat": 4,
 "nbformat_minor": 2
}
